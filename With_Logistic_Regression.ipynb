{
 "cells": [
  {
   "cell_type": "code",
   "execution_count": 134,
   "id": "e2d534e2",
   "metadata": {},
   "outputs": [],
   "source": [
    "import math\n",
    "import numpy as np\n",
    "\n",
    "import matplotlib.pyplot as plt"
   ]
  },
  {
   "cell_type": "code",
   "execution_count": 135,
   "id": "0c967e25",
   "metadata": {},
   "outputs": [],
   "source": [
    "import pandas as pd\n",
    "import json"
   ]
  },
  {
   "cell_type": "code",
   "execution_count": 136,
   "id": "8cd559bc",
   "metadata": {},
   "outputs": [],
   "source": [
    "# dataframe = pd.read_json(r\"/../../Downloads/transactions.json\")"
   ]
  },
  {
   "cell_type": "code",
   "execution_count": 137,
   "id": "dd473914",
   "metadata": {},
   "outputs": [
    {
     "name": "stdout",
     "output_type": "stream",
     "text": [
      "  accountNumber customerId  creditLimit  availableMoney  transactionDateTime  \\\n",
      "0     737265056  737265056       5000.0          5000.0  2016-08-13T14:27:32   \n",
      "1     737265056  737265056       5000.0          5000.0  2016-10-11T05:05:54   \n",
      "2     737265056  737265056       5000.0          5000.0  2016-11-08T09:18:39   \n",
      "3     737265056  737265056       5000.0          5000.0  2016-12-10T02:14:50   \n",
      "4     830329091  830329091       5000.0          5000.0  2016-03-24T21:04:46   \n",
      "\n",
      "   transactionAmount         merchantName acqCountry merchantCountryCode  \\\n",
      "0              98.55                 Uber         US                  US   \n",
      "1              74.51          AMC #191138         US                  US   \n",
      "2               7.47           Play Store         US                  US   \n",
      "3               7.47           Play Store         US                  US   \n",
      "4              71.18  Tim Hortons #947751         US                  US   \n",
      "\n",
      "  posEntryMode  ... echoBuffer currentBalance merchantCity merchantState  \\\n",
      "0           02  ...                       0.0                              \n",
      "1           09  ...                       0.0                              \n",
      "2           09  ...                       0.0                              \n",
      "3           09  ...                       0.0                              \n",
      "4           02  ...                       0.0                              \n",
      "\n",
      "  merchantZip cardPresent posOnPremises recurringAuthInd  \\\n",
      "0                   False                                  \n",
      "1                    True                                  \n",
      "2                   False                                  \n",
      "3                   False                                  \n",
      "4                    True                                  \n",
      "\n",
      "  expirationDateKeyInMatch isFraud  \n",
      "0                    False   False  \n",
      "1                    False   False  \n",
      "2                    False   False  \n",
      "3                    False   False  \n",
      "4                    False   False  \n",
      "\n",
      "[5 rows x 29 columns]\n"
     ]
    }
   ],
   "source": [
    "# Reading JSON data from a file, handling potential multiple objects\n",
    "json_data = []\n",
    "with open(r\"/Users/akankshadas/Downloads/transactions.json\") as f:\n",
    "    for line in f:\n",
    "        try:\n",
    "            json_data.append(json.loads(line))\n",
    "        except json.JSONDecodeError as e:\n",
    "            print(f\"Warning: Skipping invalid JSON line: {line.strip()}\")\n",
    "\n",
    "# Converting JSON data to a pandas DataFrame\n",
    "if json_data:\n",
    "    df = pd.DataFrame(json_data)\n",
    "    print(df.head())\n",
    "else:\n",
    "    print(\"No valid JSON data found in the file.\")"
   ]
  },
  {
   "cell_type": "code",
   "execution_count": 139,
   "id": "2d8ef0c6",
   "metadata": {},
   "outputs": [
    {
     "data": {
      "text/plain": [
       "(786363, 29)"
      ]
     },
     "execution_count": 139,
     "metadata": {},
     "output_type": "execute_result"
    }
   ],
   "source": [
    "df.shape"
   ]
  },
  {
   "cell_type": "code",
   "execution_count": 140,
   "id": "53fbd2bb",
   "metadata": {},
   "outputs": [
    {
     "name": "stdout",
     "output_type": "stream",
     "text": [
      "<class 'pandas.core.frame.DataFrame'>\n",
      "RangeIndex: 786363 entries, 0 to 786362\n",
      "Data columns (total 29 columns):\n",
      " #   Column                    Non-Null Count   Dtype  \n",
      "---  ------                    --------------   -----  \n",
      " 0   accountNumber             786363 non-null  object \n",
      " 1   customerId                786363 non-null  object \n",
      " 2   creditLimit               786363 non-null  float64\n",
      " 3   availableMoney            786363 non-null  float64\n",
      " 4   transactionDateTime       786363 non-null  object \n",
      " 5   transactionAmount         786363 non-null  float64\n",
      " 6   merchantName              786363 non-null  object \n",
      " 7   acqCountry                786363 non-null  object \n",
      " 8   merchantCountryCode       786363 non-null  object \n",
      " 9   posEntryMode              786363 non-null  object \n",
      " 10  posConditionCode          786363 non-null  object \n",
      " 11  merchantCategoryCode      786363 non-null  object \n",
      " 12  currentExpDate            786363 non-null  object \n",
      " 13  accountOpenDate           786363 non-null  object \n",
      " 14  dateOfLastAddressChange   786363 non-null  object \n",
      " 15  cardCVV                   786363 non-null  object \n",
      " 16  enteredCVV                786363 non-null  object \n",
      " 17  cardLast4Digits           786363 non-null  object \n",
      " 18  transactionType           786363 non-null  object \n",
      " 19  echoBuffer                786363 non-null  object \n",
      " 20  currentBalance            786363 non-null  float64\n",
      " 21  merchantCity              786363 non-null  object \n",
      " 22  merchantState             786363 non-null  object \n",
      " 23  merchantZip               786363 non-null  object \n",
      " 24  cardPresent               786363 non-null  bool   \n",
      " 25  posOnPremises             786363 non-null  object \n",
      " 26  recurringAuthInd          786363 non-null  object \n",
      " 27  expirationDateKeyInMatch  786363 non-null  bool   \n",
      " 28  isFraud                   786363 non-null  bool   \n",
      "dtypes: bool(3), float64(4), object(22)\n",
      "memory usage: 158.2+ MB\n"
     ]
    }
   ],
   "source": [
    "df.info()"
   ]
  },
  {
   "cell_type": "code",
   "execution_count": 145,
   "id": "f6ca0a82",
   "metadata": {},
   "outputs": [],
   "source": [
    "#Finding number of missing values in each column"
   ]
  },
  {
   "cell_type": "code",
   "execution_count": 146,
   "id": "16322c10",
   "metadata": {},
   "outputs": [
    {
     "data": {
      "text/plain": [
       "accountNumber               0\n",
       "customerId                  0\n",
       "creditLimit                 0\n",
       "availableMoney              0\n",
       "transactionDateTime         0\n",
       "transactionAmount           0\n",
       "merchantName                0\n",
       "acqCountry                  0\n",
       "merchantCountryCode         0\n",
       "posEntryMode                0\n",
       "posConditionCode            0\n",
       "merchantCategoryCode        0\n",
       "currentExpDate              0\n",
       "accountOpenDate             0\n",
       "dateOfLastAddressChange     0\n",
       "cardCVV                     0\n",
       "enteredCVV                  0\n",
       "cardLast4Digits             0\n",
       "transactionType             0\n",
       "echoBuffer                  0\n",
       "currentBalance              0\n",
       "merchantCity                0\n",
       "merchantState               0\n",
       "merchantZip                 0\n",
       "cardPresent                 0\n",
       "posOnPremises               0\n",
       "recurringAuthInd            0\n",
       "expirationDateKeyInMatch    0\n",
       "isFraud                     0\n",
       "dtype: int64"
      ]
     },
     "execution_count": 146,
     "metadata": {},
     "output_type": "execute_result"
    }
   ],
   "source": [
    "df.isnull().sum()"
   ]
  },
  {
   "cell_type": "code",
   "execution_count": 147,
   "id": "053d509f",
   "metadata": {},
   "outputs": [],
   "source": [
    "df['isFraud'] = df['isFraud'].astype(int)"
   ]
  },
  {
   "cell_type": "code",
   "execution_count": 148,
   "id": "fe41c833",
   "metadata": {},
   "outputs": [
    {
     "data": {
      "text/html": [
       "<div>\n",
       "<style scoped>\n",
       "    .dataframe tbody tr th:only-of-type {\n",
       "        vertical-align: middle;\n",
       "    }\n",
       "\n",
       "    .dataframe tbody tr th {\n",
       "        vertical-align: top;\n",
       "    }\n",
       "\n",
       "    .dataframe thead th {\n",
       "        text-align: right;\n",
       "    }\n",
       "</style>\n",
       "<table border=\"1\" class=\"dataframe\">\n",
       "  <thead>\n",
       "    <tr style=\"text-align: right;\">\n",
       "      <th></th>\n",
       "      <th>accountNumber</th>\n",
       "      <th>customerId</th>\n",
       "      <th>creditLimit</th>\n",
       "      <th>availableMoney</th>\n",
       "      <th>transactionDateTime</th>\n",
       "      <th>transactionAmount</th>\n",
       "      <th>merchantName</th>\n",
       "      <th>acqCountry</th>\n",
       "      <th>merchantCountryCode</th>\n",
       "      <th>posEntryMode</th>\n",
       "      <th>...</th>\n",
       "      <th>echoBuffer</th>\n",
       "      <th>currentBalance</th>\n",
       "      <th>merchantCity</th>\n",
       "      <th>merchantState</th>\n",
       "      <th>merchantZip</th>\n",
       "      <th>cardPresent</th>\n",
       "      <th>posOnPremises</th>\n",
       "      <th>recurringAuthInd</th>\n",
       "      <th>expirationDateKeyInMatch</th>\n",
       "      <th>isFraud</th>\n",
       "    </tr>\n",
       "  </thead>\n",
       "  <tbody>\n",
       "    <tr>\n",
       "      <th>786358</th>\n",
       "      <td>732852505</td>\n",
       "      <td>732852505</td>\n",
       "      <td>50000.0</td>\n",
       "      <td>48904.96</td>\n",
       "      <td>2016-12-22T18:44:12</td>\n",
       "      <td>119.92</td>\n",
       "      <td>Lyft</td>\n",
       "      <td>US</td>\n",
       "      <td>US</td>\n",
       "      <td>90</td>\n",
       "      <td>...</td>\n",
       "      <td></td>\n",
       "      <td>1095.04</td>\n",
       "      <td></td>\n",
       "      <td></td>\n",
       "      <td></td>\n",
       "      <td>False</td>\n",
       "      <td></td>\n",
       "      <td></td>\n",
       "      <td>False</td>\n",
       "      <td>0</td>\n",
       "    </tr>\n",
       "    <tr>\n",
       "      <th>786359</th>\n",
       "      <td>732852505</td>\n",
       "      <td>732852505</td>\n",
       "      <td>50000.0</td>\n",
       "      <td>48785.04</td>\n",
       "      <td>2016-12-25T16:20:34</td>\n",
       "      <td>18.89</td>\n",
       "      <td>hulu.com</td>\n",
       "      <td>US</td>\n",
       "      <td>US</td>\n",
       "      <td>09</td>\n",
       "      <td>...</td>\n",
       "      <td></td>\n",
       "      <td>1214.96</td>\n",
       "      <td></td>\n",
       "      <td></td>\n",
       "      <td></td>\n",
       "      <td>False</td>\n",
       "      <td></td>\n",
       "      <td></td>\n",
       "      <td>False</td>\n",
       "      <td>0</td>\n",
       "    </tr>\n",
       "    <tr>\n",
       "      <th>786360</th>\n",
       "      <td>732852505</td>\n",
       "      <td>732852505</td>\n",
       "      <td>50000.0</td>\n",
       "      <td>48766.15</td>\n",
       "      <td>2016-12-27T15:46:24</td>\n",
       "      <td>49.43</td>\n",
       "      <td>Lyft</td>\n",
       "      <td>US</td>\n",
       "      <td>US</td>\n",
       "      <td>02</td>\n",
       "      <td>...</td>\n",
       "      <td></td>\n",
       "      <td>1233.85</td>\n",
       "      <td></td>\n",
       "      <td></td>\n",
       "      <td></td>\n",
       "      <td>False</td>\n",
       "      <td></td>\n",
       "      <td></td>\n",
       "      <td>False</td>\n",
       "      <td>0</td>\n",
       "    </tr>\n",
       "    <tr>\n",
       "      <th>786361</th>\n",
       "      <td>732852505</td>\n",
       "      <td>732852505</td>\n",
       "      <td>50000.0</td>\n",
       "      <td>48716.72</td>\n",
       "      <td>2016-12-29T00:30:55</td>\n",
       "      <td>49.89</td>\n",
       "      <td>walmart.com</td>\n",
       "      <td>US</td>\n",
       "      <td>US</td>\n",
       "      <td>09</td>\n",
       "      <td>...</td>\n",
       "      <td></td>\n",
       "      <td>1283.28</td>\n",
       "      <td></td>\n",
       "      <td></td>\n",
       "      <td></td>\n",
       "      <td>False</td>\n",
       "      <td></td>\n",
       "      <td></td>\n",
       "      <td>False</td>\n",
       "      <td>0</td>\n",
       "    </tr>\n",
       "    <tr>\n",
       "      <th>786362</th>\n",
       "      <td>732852505</td>\n",
       "      <td>732852505</td>\n",
       "      <td>50000.0</td>\n",
       "      <td>48666.83</td>\n",
       "      <td>2016-12-30T20:10:29</td>\n",
       "      <td>72.18</td>\n",
       "      <td>Uber</td>\n",
       "      <td>US</td>\n",
       "      <td>US</td>\n",
       "      <td>05</td>\n",
       "      <td>...</td>\n",
       "      <td></td>\n",
       "      <td>1333.17</td>\n",
       "      <td></td>\n",
       "      <td></td>\n",
       "      <td></td>\n",
       "      <td>False</td>\n",
       "      <td></td>\n",
       "      <td></td>\n",
       "      <td>False</td>\n",
       "      <td>0</td>\n",
       "    </tr>\n",
       "  </tbody>\n",
       "</table>\n",
       "<p>5 rows × 29 columns</p>\n",
       "</div>"
      ],
      "text/plain": [
       "       accountNumber customerId  creditLimit  availableMoney  \\\n",
       "786358     732852505  732852505      50000.0        48904.96   \n",
       "786359     732852505  732852505      50000.0        48785.04   \n",
       "786360     732852505  732852505      50000.0        48766.15   \n",
       "786361     732852505  732852505      50000.0        48716.72   \n",
       "786362     732852505  732852505      50000.0        48666.83   \n",
       "\n",
       "        transactionDateTime  transactionAmount merchantName acqCountry  \\\n",
       "786358  2016-12-22T18:44:12             119.92         Lyft         US   \n",
       "786359  2016-12-25T16:20:34              18.89     hulu.com         US   \n",
       "786360  2016-12-27T15:46:24              49.43         Lyft         US   \n",
       "786361  2016-12-29T00:30:55              49.89  walmart.com         US   \n",
       "786362  2016-12-30T20:10:29              72.18         Uber         US   \n",
       "\n",
       "       merchantCountryCode posEntryMode  ... echoBuffer currentBalance  \\\n",
       "786358                  US           90  ...                   1095.04   \n",
       "786359                  US           09  ...                   1214.96   \n",
       "786360                  US           02  ...                   1233.85   \n",
       "786361                  US           09  ...                   1283.28   \n",
       "786362                  US           05  ...                   1333.17   \n",
       "\n",
       "       merchantCity merchantState merchantZip cardPresent posOnPremises  \\\n",
       "786358                                              False                 \n",
       "786359                                              False                 \n",
       "786360                                              False                 \n",
       "786361                                              False                 \n",
       "786362                                              False                 \n",
       "\n",
       "       recurringAuthInd expirationDateKeyInMatch isFraud  \n",
       "786358                                     False       0  \n",
       "786359                                     False       0  \n",
       "786360                                     False       0  \n",
       "786361                                     False       0  \n",
       "786362                                     False       0  \n",
       "\n",
       "[5 rows x 29 columns]"
      ]
     },
     "execution_count": 148,
     "metadata": {},
     "output_type": "execute_result"
    }
   ],
   "source": [
    "df.tail(5)"
   ]
  },
  {
   "cell_type": "code",
   "execution_count": 149,
   "id": "01054d6d",
   "metadata": {},
   "outputs": [
    {
     "data": {
      "text/plain": [
       "0    773946\n",
       "1     12417\n",
       "Name: isFraud, dtype: int64"
      ]
     },
     "execution_count": 149,
     "metadata": {},
     "output_type": "execute_result"
    }
   ],
   "source": [
    "df['isFraud'].value_counts()"
   ]
  },
  {
   "cell_type": "code",
   "execution_count": 150,
   "id": "4259d28b",
   "metadata": {},
   "outputs": [],
   "source": [
    "import seaborn as snb"
   ]
  },
  {
   "cell_type": "code",
   "execution_count": 151,
   "id": "32777f21",
   "metadata": {},
   "outputs": [],
   "source": [
    "#Calculating the percentage of legit vs fraudulent transactions"
   ]
  },
  {
   "cell_type": "code",
   "execution_count": 152,
   "id": "97ca8f34",
   "metadata": {},
   "outputs": [
    {
     "data": {
      "text/plain": [
       "0    98.420958\n",
       "1     1.579042\n",
       "Name: isFraud, dtype: float64"
      ]
     },
     "execution_count": 152,
     "metadata": {},
     "output_type": "execute_result"
    }
   ],
   "source": [
    "df['isFraud'].value_counts(normalize=True)*100"
   ]
  },
  {
   "cell_type": "code",
   "execution_count": 153,
   "id": "15ac3f02",
   "metadata": {},
   "outputs": [],
   "source": [
    "# Dataset is imbalanced after looking at the percentage of legit vs fraudulent transactions"
   ]
  },
  {
   "cell_type": "code",
   "execution_count": 154,
   "id": "ca559325",
   "metadata": {},
   "outputs": [
    {
     "data": {
      "image/png": "[encoded data removed]",
      "text/plain": [
       "<Figure size 432x288 with 1 Axes>"
      ]
     },
     "metadata": {
      "needs_background": "light"
     },
     "output_type": "display_data"
    },
    {
     "data": {
      "text/plain": [
       "<Figure size 1800x1080 with 0 Axes>"
      ]
     },
     "metadata": {},
     "output_type": "display_data"
    }
   ],
   "source": [
    "df['isFraud'].value_counts().plot(kind='bar') \n",
    "plt.figure(figsize=(25,15))\n",
    "plt.show() "
   ]
  },
  {
   "cell_type": "code",
   "execution_count": 155,
   "id": "525efcea",
   "metadata": {},
   "outputs": [],
   "source": [
    "# Selecting only relevant features\n",
    "labels_to_drop = ['transactionDateTime', 'merchantName', 'acqCountry', 'merchantCountryCode', 'posEntryMode', 'posConditionCode', \n",
    "          'merchantCategoryCode', 'currentExpDate', 'cardCVV', 'enteredCVV', 'cardLast4Digits', 'transactionType', 'echoBuffer', 'merchantCity',\n",
    "          'merchantState', 'merchantZip', 'cardPresent', 'posOnPremises', 'recurringAuthInd', 'expirationDateKeyInMatch','accountOpenDate', 'dateOfLastAddressChange']\n",
    "\n",
    "df = df.drop(labels=labels_to_drop, axis=1)"
   ]
  },
  {
   "cell_type": "code",
   "execution_count": 156,
   "id": "c0287a5a",
   "metadata": {},
   "outputs": [],
   "source": [
    "legit_transactions = df[df.isFraud == 0]\n",
    "fraudulent_transactions = df[df.isFraud == 1]"
   ]
  },
  {
   "cell_type": "code",
   "execution_count": 157,
   "id": "ec564c92",
   "metadata": {},
   "outputs": [
    {
     "data": {
      "text/plain": [
       "(773946, 7)"
      ]
     },
     "execution_count": 157,
     "metadata": {},
     "output_type": "execute_result"
    }
   ],
   "source": [
    "legit_transactions.shape"
   ]
  },
  {
   "cell_type": "code",
   "execution_count": 158,
   "id": "125b6e5f",
   "metadata": {},
   "outputs": [
    {
     "data": {
      "text/plain": [
       "(12417, 7)"
      ]
     },
     "execution_count": 158,
     "metadata": {},
     "output_type": "execute_result"
    }
   ],
   "source": [
    "fraudulent_transactions.shape"
   ]
  },
  {
   "cell_type": "code",
   "execution_count": 159,
   "id": "9550a97f",
   "metadata": {},
   "outputs": [
    {
     "data": {
      "text/plain": [
       "count    773946.000000\n",
       "mean        135.570249\n",
       "std         146.525305\n",
       "min           0.000000\n",
       "25%          33.190000\n",
       "50%          86.760000\n",
       "75%         189.390000\n",
       "max        2011.540000\n",
       "Name: transactionAmount, dtype: float64"
      ]
     },
     "execution_count": 159,
     "metadata": {},
     "output_type": "execute_result"
    }
   ],
   "source": [
    "legit_transactions.transactionAmount.describe()"
   ]
  },
  {
   "cell_type": "code",
   "execution_count": 160,
   "id": "587b1f21",
   "metadata": {},
   "outputs": [
    {
     "data": {
      "text/plain": [
       "count    12417.000000\n",
       "mean       225.215905\n",
       "std        189.551393\n",
       "min          0.000000\n",
       "25%         86.000000\n",
       "50%        176.980000\n",
       "75%        311.460000\n",
       "max       1608.350000\n",
       "Name: transactionAmount, dtype: float64"
      ]
     },
     "execution_count": 160,
     "metadata": {},
     "output_type": "execute_result"
    }
   ],
   "source": [
    "fraudulent_transactions.transactionAmount.describe()"
   ]
  },
  {
   "cell_type": "code",
   "execution_count": 161,
   "id": "ac8ea7fc",
   "metadata": {},
   "outputs": [
    {
     "data": {
      "text/html": [
       "<div>\n",
       "<style scoped>\n",
       "    .dataframe tbody tr th:only-of-type {\n",
       "        vertical-align: middle;\n",
       "    }\n",
       "\n",
       "    .dataframe tbody tr th {\n",
       "        vertical-align: top;\n",
       "    }\n",
       "\n",
       "    .dataframe thead th {\n",
       "        text-align: right;\n",
       "    }\n",
       "</style>\n",
       "<table border=\"1\" class=\"dataframe\">\n",
       "  <thead>\n",
       "    <tr style=\"text-align: right;\">\n",
       "      <th></th>\n",
       "      <th>creditLimit</th>\n",
       "      <th>availableMoney</th>\n",
       "      <th>transactionAmount</th>\n",
       "      <th>currentBalance</th>\n",
       "    </tr>\n",
       "    <tr>\n",
       "      <th>isFraud</th>\n",
       "      <th></th>\n",
       "      <th></th>\n",
       "      <th></th>\n",
       "      <th></th>\n",
       "    </tr>\n",
       "  </thead>\n",
       "  <tbody>\n",
       "    <tr>\n",
       "      <th>0</th>\n",
       "      <td>10754.884062</td>\n",
       "      <td>6252.455386</td>\n",
       "      <td>135.570249</td>\n",
       "      <td>4502.428675</td>\n",
       "    </tr>\n",
       "    <tr>\n",
       "      <th>1</th>\n",
       "      <td>11044.958525</td>\n",
       "      <td>6142.894186</td>\n",
       "      <td>225.215905</td>\n",
       "      <td>4902.064338</td>\n",
       "    </tr>\n",
       "  </tbody>\n",
       "</table>\n",
       "</div>"
      ],
      "text/plain": [
       "          creditLimit  availableMoney  transactionAmount  currentBalance\n",
       "isFraud                                                                 \n",
       "0        10754.884062     6252.455386         135.570249     4502.428675\n",
       "1        11044.958525     6142.894186         225.215905     4902.064338"
      ]
     },
     "execution_count": 161,
     "metadata": {},
     "output_type": "execute_result"
    }
   ],
   "source": [
    "#legit vs fraudulent\n",
    "df.groupby('isFraud').mean()"
   ]
  },
  {
   "cell_type": "code",
   "execution_count": null,
   "id": "737a6ec5",
   "metadata": {},
   "outputs": [],
   "source": []
  },
  {
   "cell_type": "code",
   "execution_count": null,
   "id": "7701c5ec",
   "metadata": {},
   "outputs": [],
   "source": []
  },
  {
   "cell_type": "code",
   "execution_count": null,
   "id": "78706710",
   "metadata": {},
   "outputs": [],
   "source": []
  },
  {
   "cell_type": "code",
   "execution_count": 162,
   "id": "4e91c3d5",
   "metadata": {},
   "outputs": [],
   "source": [
    "# Creating a sample data set with a similar distribution of legit and fraudulent transactions"
   ]
  },
  {
   "cell_type": "code",
   "execution_count": 163,
   "id": "3e23f1a1",
   "metadata": {},
   "outputs": [],
   "source": [
    "# Undersampling - Grabbing a random sample of 12417 data points from the legit transaction set \n",
    "# and joining it with the fraudulent set --> Random Sampling Technique"
   ]
  },
  {
   "cell_type": "code",
   "execution_count": 164,
   "id": "f3be8ef7",
   "metadata": {},
   "outputs": [],
   "source": [
    "sample_legit_transactions = legit_transactions.sample(n=12417)"
   ]
  },
  {
   "cell_type": "code",
   "execution_count": 165,
   "id": "5992982f",
   "metadata": {},
   "outputs": [],
   "source": [
    "# concatenating this sample set with the original fraudulent data set"
   ]
  },
  {
   "cell_type": "code",
   "execution_count": 166,
   "id": "26187201",
   "metadata": {},
   "outputs": [],
   "source": [
    "undersampled_dataset = pd.concat([sample_legit_transactions,fraudulent_transactions], axis = 0)"
   ]
  },
  {
   "cell_type": "code",
   "execution_count": 167,
   "id": "00a19843",
   "metadata": {},
   "outputs": [
    {
     "data": {
      "text/html": [
       "<div>\n",
       "<style scoped>\n",
       "    .dataframe tbody tr th:only-of-type {\n",
       "        vertical-align: middle;\n",
       "    }\n",
       "\n",
       "    .dataframe tbody tr th {\n",
       "        vertical-align: top;\n",
       "    }\n",
       "\n",
       "    .dataframe thead th {\n",
       "        text-align: right;\n",
       "    }\n",
       "</style>\n",
       "<table border=\"1\" class=\"dataframe\">\n",
       "  <thead>\n",
       "    <tr style=\"text-align: right;\">\n",
       "      <th></th>\n",
       "      <th>accountNumber</th>\n",
       "      <th>customerId</th>\n",
       "      <th>creditLimit</th>\n",
       "      <th>availableMoney</th>\n",
       "      <th>transactionAmount</th>\n",
       "      <th>currentBalance</th>\n",
       "      <th>isFraud</th>\n",
       "    </tr>\n",
       "  </thead>\n",
       "  <tbody>\n",
       "    <tr>\n",
       "      <th>378768</th>\n",
       "      <td>449619624</td>\n",
       "      <td>449619624</td>\n",
       "      <td>15000.0</td>\n",
       "      <td>6767.62</td>\n",
       "      <td>164.97</td>\n",
       "      <td>8232.38</td>\n",
       "      <td>0</td>\n",
       "    </tr>\n",
       "    <tr>\n",
       "      <th>168124</th>\n",
       "      <td>225678947</td>\n",
       "      <td>225678947</td>\n",
       "      <td>2500.0</td>\n",
       "      <td>478.16</td>\n",
       "      <td>540.79</td>\n",
       "      <td>2021.84</td>\n",
       "      <td>0</td>\n",
       "    </tr>\n",
       "    <tr>\n",
       "      <th>403151</th>\n",
       "      <td>105730883</td>\n",
       "      <td>105730883</td>\n",
       "      <td>500.0</td>\n",
       "      <td>142.44</td>\n",
       "      <td>40.69</td>\n",
       "      <td>357.56</td>\n",
       "      <td>0</td>\n",
       "    </tr>\n",
       "    <tr>\n",
       "      <th>765964</th>\n",
       "      <td>807483502</td>\n",
       "      <td>807483502</td>\n",
       "      <td>20000.0</td>\n",
       "      <td>15208.64</td>\n",
       "      <td>166.31</td>\n",
       "      <td>4791.36</td>\n",
       "      <td>0</td>\n",
       "    </tr>\n",
       "    <tr>\n",
       "      <th>758936</th>\n",
       "      <td>640481917</td>\n",
       "      <td>640481917</td>\n",
       "      <td>250.0</td>\n",
       "      <td>-93.70</td>\n",
       "      <td>54.45</td>\n",
       "      <td>343.70</td>\n",
       "      <td>0</td>\n",
       "    </tr>\n",
       "  </tbody>\n",
       "</table>\n",
       "</div>"
      ],
      "text/plain": [
       "       accountNumber customerId  creditLimit  availableMoney  \\\n",
       "378768     449619624  449619624      15000.0         6767.62   \n",
       "168124     225678947  225678947       2500.0          478.16   \n",
       "403151     105730883  105730883        500.0          142.44   \n",
       "765964     807483502  807483502      20000.0        15208.64   \n",
       "758936     640481917  640481917        250.0          -93.70   \n",
       "\n",
       "        transactionAmount  currentBalance  isFraud  \n",
       "378768             164.97         8232.38        0  \n",
       "168124             540.79         2021.84        0  \n",
       "403151              40.69          357.56        0  \n",
       "765964             166.31         4791.36        0  \n",
       "758936              54.45          343.70        0  "
      ]
     },
     "execution_count": 167,
     "metadata": {},
     "output_type": "execute_result"
    }
   ],
   "source": [
    "undersampled_dataset.head(5)"
   ]
  },
  {
   "cell_type": "code",
   "execution_count": 168,
   "id": "f2a2ce29",
   "metadata": {},
   "outputs": [
    {
     "name": "stdout",
     "output_type": "stream",
     "text": [
      "24834\n"
     ]
    }
   ],
   "source": [
    "rows,cols = undersampled_dataset.shape\n",
    "print(rows)"
   ]
  },
  {
   "cell_type": "code",
   "execution_count": 169,
   "id": "a09cb034",
   "metadata": {},
   "outputs": [
    {
     "data": {
      "text/plain": [
       "0    12417\n",
       "1    12417\n",
       "Name: isFraud, dtype: int64"
      ]
     },
     "execution_count": 169,
     "metadata": {},
     "output_type": "execute_result"
    }
   ],
   "source": [
    "undersampled_dataset['isFraud'].value_counts()"
   ]
  },
  {
   "cell_type": "code",
   "execution_count": 170,
   "id": "201a556c",
   "metadata": {},
   "outputs": [],
   "source": [
    "# Mean of the dataset is similar to the original dataset"
   ]
  },
  {
   "cell_type": "code",
   "execution_count": 171,
   "id": "f95b699c",
   "metadata": {},
   "outputs": [
    {
     "data": {
      "text/html": [
       "<div>\n",
       "<style scoped>\n",
       "    .dataframe tbody tr th:only-of-type {\n",
       "        vertical-align: middle;\n",
       "    }\n",
       "\n",
       "    .dataframe tbody tr th {\n",
       "        vertical-align: top;\n",
       "    }\n",
       "\n",
       "    .dataframe thead th {\n",
       "        text-align: right;\n",
       "    }\n",
       "</style>\n",
       "<table border=\"1\" class=\"dataframe\">\n",
       "  <thead>\n",
       "    <tr style=\"text-align: right;\">\n",
       "      <th></th>\n",
       "      <th>creditLimit</th>\n",
       "      <th>availableMoney</th>\n",
       "      <th>transactionAmount</th>\n",
       "      <th>currentBalance</th>\n",
       "    </tr>\n",
       "    <tr>\n",
       "      <th>isFraud</th>\n",
       "      <th></th>\n",
       "      <th></th>\n",
       "      <th></th>\n",
       "      <th></th>\n",
       "    </tr>\n",
       "  </thead>\n",
       "  <tbody>\n",
       "    <tr>\n",
       "      <th>0</th>\n",
       "      <td>10657.908513</td>\n",
       "      <td>6228.728250</td>\n",
       "      <td>135.354799</td>\n",
       "      <td>4429.180263</td>\n",
       "    </tr>\n",
       "    <tr>\n",
       "      <th>1</th>\n",
       "      <td>11044.958525</td>\n",
       "      <td>6142.894186</td>\n",
       "      <td>225.215905</td>\n",
       "      <td>4902.064338</td>\n",
       "    </tr>\n",
       "  </tbody>\n",
       "</table>\n",
       "</div>"
      ],
      "text/plain": [
       "          creditLimit  availableMoney  transactionAmount  currentBalance\n",
       "isFraud                                                                 \n",
       "0        10657.908513     6228.728250         135.354799     4429.180263\n",
       "1        11044.958525     6142.894186         225.215905     4902.064338"
      ]
     },
     "execution_count": 171,
     "metadata": {},
     "output_type": "execute_result"
    }
   ],
   "source": [
    "undersampled_dataset.groupby('isFraud').mean()"
   ]
  },
  {
   "cell_type": "code",
   "execution_count": 172,
   "id": "525804b8",
   "metadata": {},
   "outputs": [],
   "source": [
    "# Splitting the dataset into X and Y"
   ]
  },
  {
   "cell_type": "code",
   "execution_count": 173,
   "id": "65bacdc3",
   "metadata": {},
   "outputs": [],
   "source": [
    "X = undersampled_dataset.drop(columns = 'isFraud', axis = 1)\n",
    "Y = undersampled_dataset['isFraud']"
   ]
  },
  {
   "cell_type": "code",
   "execution_count": 174,
   "id": "c5a8d666",
   "metadata": {},
   "outputs": [
    {
     "name": "stdout",
     "output_type": "stream",
     "text": [
      "<class 'pandas.core.frame.DataFrame'>\n",
      "Int64Index: 24834 entries, 378768 to 786112\n",
      "Data columns (total 6 columns):\n",
      " #   Column             Non-Null Count  Dtype  \n",
      "---  ------             --------------  -----  \n",
      " 0   accountNumber      24834 non-null  object \n",
      " 1   customerId         24834 non-null  object \n",
      " 2   creditLimit        24834 non-null  float64\n",
      " 3   availableMoney     24834 non-null  float64\n",
      " 4   transactionAmount  24834 non-null  float64\n",
      " 5   currentBalance     24834 non-null  float64\n",
      "dtypes: float64(4), object(2)\n",
      "memory usage: 1.3+ MB\n"
     ]
    }
   ],
   "source": [
    "X.info()"
   ]
  },
  {
   "cell_type": "code",
   "execution_count": 175,
   "id": "9ff84d54",
   "metadata": {},
   "outputs": [],
   "source": [
    "# Splitting the dataset into training and test"
   ]
  },
  {
   "cell_type": "code",
   "execution_count": 176,
   "id": "b21fea54",
   "metadata": {},
   "outputs": [
    {
     "name": "stdout",
     "output_type": "stream",
     "text": [
      "No of Samples in Training Set: 19867\n"
     ]
    }
   ],
   "source": [
    "trainingSetSampleSize = math.floor(0.8*rows)\n",
    "print('No of Samples in Training Set:',trainingSetSampleSize)"
   ]
  },
  {
   "cell_type": "code",
   "execution_count": 177,
   "id": "7ad40846",
   "metadata": {},
   "outputs": [
    {
     "name": "stdout",
     "output_type": "stream",
     "text": [
      "The shape of the Training Fetaures dataset is : (19867, 6)\n",
      "The shape of the Training Label dataset is : (19867,)\n"
     ]
    }
   ],
   "source": [
    "X_Train = X.iloc[:trainingSetSampleSize,:]\n",
    "Y_Train_Label = Y.iloc[:trainingSetSampleSize]\n",
    "print(\"The shape of the Training Fetaures dataset is :\", X_Train.shape)\n",
    "print(\"The shape of the Training Label dataset is :\", Y_Train_Label.shape)"
   ]
  },
  {
   "cell_type": "code",
   "execution_count": 178,
   "id": "8418e6b2",
   "metadata": {},
   "outputs": [
    {
     "name": "stdout",
     "output_type": "stream",
     "text": [
      "The shape of the Test Fetaures dataset is : (4967, 6)\n",
      "The shape of the Test Label dataset is : (4967,)\n"
     ]
    }
   ],
   "source": [
    "X_Test = X.iloc[trainingSetSampleSize:,:]\n",
    "Y_Test_Label = Y.iloc[trainingSetSampleSize:]\n",
    "print(\"The shape of the Test Fetaures dataset is :\", X_Test.shape)\n",
    "print(\"The shape of the Test Label dataset is :\", Y_Test_Label.shape)"
   ]
  },
  {
   "cell_type": "code",
   "execution_count": 179,
   "id": "b219506d",
   "metadata": {},
   "outputs": [],
   "source": [
    "from sklearn.linear_model import LogisticRegression"
   ]
  },
  {
   "cell_type": "code",
   "execution_count": 180,
   "id": "f50c8c09",
   "metadata": {},
   "outputs": [],
   "source": [
    "model = LogisticRegression()"
   ]
  },
  {
   "cell_type": "code",
   "execution_count": 181,
   "id": "fa8edf70",
   "metadata": {},
   "outputs": [
    {
     "data": {
      "text/plain": [
       "LogisticRegression()"
      ]
     },
     "execution_count": 181,
     "metadata": {},
     "output_type": "execute_result"
    }
   ],
   "source": [
    "model.fit(X_Train, Y_Train_Label)"
   ]
  },
  {
   "cell_type": "code",
   "execution_count": 182,
   "id": "cb8bbe25",
   "metadata": {},
   "outputs": [],
   "source": [
    "from sklearn.metrics import accuracy_score"
   ]
  },
  {
   "cell_type": "code",
   "execution_count": 184,
   "id": "11ac81e4",
   "metadata": {},
   "outputs": [],
   "source": [
    "X_Train_prediction = model.predict(X_Train)\n",
    "training_set_accuracy = accuracy_score(X_Train_prediction,Y_Train_Label) "
   ]
  },
  {
   "cell_type": "code",
   "execution_count": 185,
   "id": "f3a2d573",
   "metadata": {},
   "outputs": [
    {
     "name": "stdout",
     "output_type": "stream",
     "text": [
      "The accuracy of training set is 0.625006291840741\n"
     ]
    }
   ],
   "source": [
    "print(\"The accuracy of training set is\", training_set_accuracy)"
   ]
  },
  {
   "cell_type": "code",
   "execution_count": 187,
   "id": "030b7bca",
   "metadata": {},
   "outputs": [],
   "source": [
    "from sklearn.ensemble import RandomForestClassifier"
   ]
  },
  {
   "cell_type": "code",
   "execution_count": 194,
   "id": "3fc92559",
   "metadata": {},
   "outputs": [],
   "source": [
    "model1 = RandomForestClassifier(n_estimators = 80)"
   ]
  },
  {
   "cell_type": "code",
   "execution_count": 195,
   "id": "aa324ce5",
   "metadata": {},
   "outputs": [
    {
     "data": {
      "text/plain": [
       "RandomForestClassifier(n_estimators=80)"
      ]
     },
     "execution_count": 195,
     "metadata": {},
     "output_type": "execute_result"
    }
   ],
   "source": [
    "model1.fit(X_Train, Y_Train_Label)"
   ]
  },
  {
   "cell_type": "code",
   "execution_count": 196,
   "id": "d61ed836",
   "metadata": {},
   "outputs": [
    {
     "data": {
      "text/plain": [
       "0.15240587880008052"
      ]
     },
     "execution_count": 196,
     "metadata": {},
     "output_type": "execute_result"
    }
   ],
   "source": [
    "model1.score(X_Test, Y_Test_Label)"
   ]
  },
  {
   "cell_type": "code",
   "execution_count": 197,
   "id": "ee60711e",
   "metadata": {},
   "outputs": [],
   "source": [
    "# Undersampling was clearly not the right way to handle the imbalanced data set"
   ]
  },
  {
   "cell_type": "code",
   "execution_count": 198,
   "id": "cb29f613",
   "metadata": {},
   "outputs": [],
   "source": [
    "# Oversampling using SMOTE"
   ]
  },
  {
   "cell_type": "code",
   "execution_count": 199,
   "id": "93c923b8",
   "metadata": {},
   "outputs": [
    {
     "data": {
      "text/plain": [
       "(786363, 7)"
      ]
     },
     "execution_count": 199,
     "metadata": {},
     "output_type": "execute_result"
    }
   ],
   "source": [
    "df.shape"
   ]
  },
  {
   "cell_type": "code",
   "execution_count": 203,
   "id": "10dc8650",
   "metadata": {},
   "outputs": [
    {
     "name": "stdout",
     "output_type": "stream",
     "text": [
      "Collecting imbalanced-learn\n",
      "  Downloading imbalanced_learn-0.12.3-py3-none-any.whl (258 kB)\n",
      "\u001b[K     |████████████████████████████████| 258 kB 5.0 MB/s eta 0:00:01\n",
      "\u001b[?25hRequirement already satisfied: threadpoolctl>=2.0.0 in ./opt/anaconda3/lib/python3.9/site-packages (from imbalanced-learn) (2.2.0)\n",
      "Requirement already satisfied: joblib>=1.1.1 in ./opt/anaconda3/lib/python3.9/site-packages (from imbalanced-learn) (1.3.2)\n",
      "Requirement already satisfied: scipy>=1.5.0 in ./opt/anaconda3/lib/python3.9/site-packages (from imbalanced-learn) (1.7.3)\n",
      "Requirement already satisfied: numpy>=1.17.3 in ./opt/anaconda3/lib/python3.9/site-packages (from imbalanced-learn) (1.22.4)\n",
      "Requirement already satisfied: scikit-learn>=1.0.2 in ./opt/anaconda3/lib/python3.9/site-packages (from imbalanced-learn) (1.0.2)\n",
      "Installing collected packages: imbalanced-learn\n",
      "Successfully installed imbalanced-learn-0.12.3\n",
      "Note: you may need to restart the kernel to use updated packages.\n"
     ]
    }
   ],
   "source": [
    "pip install -U imbalanced-learn"
   ]
  },
  {
   "cell_type": "code",
   "execution_count": 204,
   "id": "f0a02d86",
   "metadata": {},
   "outputs": [],
   "source": [
    "from collections import Counter\n",
    "from sklearn.model_selection import RandomizedSearchCV\n",
    "from sklearn.model_selection import cross_val_score\n",
    "from sklearn.tree import DecisionTreeClassifier\n",
    "from imblearn import under_sampling, over_sampling\n",
    "from imblearn.over_sampling import SMOTE\n",
    "from sklearn.model_selection import KFold\n",
    "import joblib\n",
    "from sklearn.metrics import (precision_score, recall_score, roc_auc_score, accuracy_score,\n",
    "                               confusion_matrix, precision_recall_curve, roc_curve, brier_score_loss)"
   ]
  },
  {
   "cell_type": "code",
   "execution_count": 205,
   "id": "fa4b949f",
   "metadata": {},
   "outputs": [],
   "source": [
    "X_attribute = df.drop(['isFraud'], axis = 1)\n",
    "Y_attribute = df[['isFraud']]"
   ]
  },
  {
   "cell_type": "code",
   "execution_count": 207,
   "id": "395574ba",
   "metadata": {},
   "outputs": [
    {
     "name": "stdout",
     "output_type": "stream",
     "text": [
      "Y label count before sampling 0    773946\n",
      "1     12417\n",
      "Name: isFraud, dtype: int64\n",
      "Y label count after sampling 0    773946\n",
      "1    773946\n",
      "Name: isFraud, dtype: int64\n"
     ]
    }
   ],
   "source": [
    "sm = SMOTE(random_state=4)\n",
    "oversample = SMOTE()\n",
    "X_smote, y_smote = oversample.fit_resample(X_attribute, Y_attribute)\n",
    "print(\"Y label count before sampling\",Y_attribute.isFraud.value_counts())\n",
    "print(\"Y label count after sampling\", y_smote.isFraud.value_counts())"
   ]
  },
  {
   "cell_type": "code",
   "execution_count": 212,
   "id": "0771449e",
   "metadata": {},
   "outputs": [
    {
     "data": {
      "text/plain": [
       "(1547892, 6)"
      ]
     },
     "execution_count": 212,
     "metadata": {},
     "output_type": "execute_result"
    }
   ],
   "source": [
    "X_smote.shape"
   ]
  },
  {
   "cell_type": "code",
   "execution_count": 213,
   "id": "fe50c35c",
   "metadata": {},
   "outputs": [
    {
     "data": {
      "text/plain": [
       "(1547892, 1)"
      ]
     },
     "execution_count": 213,
     "metadata": {},
     "output_type": "execute_result"
    }
   ],
   "source": [
    "y_smote.shape"
   ]
  },
  {
   "cell_type": "code",
   "execution_count": 214,
   "id": "da404500",
   "metadata": {},
   "outputs": [
    {
     "name": "stdout",
     "output_type": "stream",
     "text": [
      "No of Samples in Training Set: 1238313\n"
     ]
    }
   ],
   "source": [
    "trainingSetSampleSize1 = math.floor(0.8*1547892)\n",
    "print('No of Samples in Training Set:',trainingSetSampleSize1)"
   ]
  },
  {
   "cell_type": "code",
   "execution_count": 222,
   "id": "36fcb4af",
   "metadata": {},
   "outputs": [
    {
     "name": "stdout",
     "output_type": "stream",
     "text": [
      "The shape of the Training Fetaures dataset is : (1238313, 6)\n",
      "The shape of the Training Label dataset is : (1238313, 1)\n"
     ]
    }
   ],
   "source": [
    "X_Train1 = X_smote.iloc[:trainingSetSampleSize1,:]\n",
    "Y_Train_Label1 = y_smote.iloc[:trainingSetSampleSize1]\n",
    "print(\"The shape of the Training Fetaures dataset is :\", X_Train1.shape)\n",
    "print(\"The shape of the Training Label dataset is :\", Y_Train_Label1.shape)"
   ]
  },
  {
   "cell_type": "code",
   "execution_count": 223,
   "id": "974f6cda",
   "metadata": {},
   "outputs": [
    {
     "name": "stdout",
     "output_type": "stream",
     "text": [
      "The shape of the Test Fetaures dataset is : (309579, 6)\n",
      "The shape of the Test Label dataset is : (309579, 1)\n"
     ]
    }
   ],
   "source": [
    "X_Test1 = X_smote.iloc[trainingSetSampleSize1:,:]\n",
    "Y_Test_Label1 = y_smote.iloc[trainingSetSampleSize1:]\n",
    "print(\"The shape of the Test Fetaures dataset is :\", X_Test1.shape)\n",
    "print(\"The shape of the Test Label dataset is :\", Y_Test_Label1.shape)"
   ]
  },
  {
   "cell_type": "code",
   "execution_count": 224,
   "id": "8aef0c38",
   "metadata": {},
   "outputs": [],
   "source": [
    "model_oversampled = LogisticRegression()"
   ]
  },
  {
   "cell_type": "code",
   "execution_count": 225,
   "id": "74f67c1e",
   "metadata": {},
   "outputs": [
    {
     "name": "stderr",
     "output_type": "stream",
     "text": [
      "/Users/akankshadas/opt/anaconda3/lib/python3.9/site-packages/sklearn/utils/validation.py:993: DataConversionWarning: A column-vector y was passed when a 1d array was expected. Please change the shape of y to (n_samples, ), for example using ravel().\n",
      "  y = column_or_1d(y, warn=True)\n"
     ]
    },
    {
     "data": {
      "text/plain": [
       "LogisticRegression()"
      ]
     },
     "execution_count": 225,
     "metadata": {},
     "output_type": "execute_result"
    }
   ],
   "source": [
    "model_oversampled.fit(X_Train1, Y_Train_Label1)"
   ]
  },
  {
   "cell_type": "code",
   "execution_count": 226,
   "id": "3a08465c",
   "metadata": {},
   "outputs": [],
   "source": [
    "X_Train_prediction1 = model_oversampled.predict(X_Train1)\n",
    "training_set_accuracy1 = accuracy_score(X_Train_prediction1,Y_Train_Label1) "
   ]
  },
  {
   "cell_type": "code",
   "execution_count": 227,
   "id": "5340f435",
   "metadata": {},
   "outputs": [
    {
     "name": "stdout",
     "output_type": "stream",
     "text": [
      "The accuracy of training set is 0.625000302831352\n"
     ]
    }
   ],
   "source": [
    "print(\"The accuracy of training set is\", training_set_accuracy1)"
   ]
  },
  {
   "cell_type": "code",
   "execution_count": null,
   "id": "71324bcc",
   "metadata": {},
   "outputs": [],
   "source": []
  }
 ],
 "metadata": {
  "kernelspec": {
   "display_name": "Python 3 (ipykernel)",
   "language": "python",
   "name": "python3"
  },
  "language_info": {
   "codemirror_mode": {
    "name": "ipython",
    "version": 3
   },
   "file_extension": ".py",
   "mimetype": "text/x-python",
   "name": "python",
   "nbconvert_exporter": "python",
   "pygments_lexer": "ipython3",
   "version": "3.9.12"
  }
 },
 "nbformat": 4,
 "nbformat_minor": 5
}
